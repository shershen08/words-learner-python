{
 "cells": [
  {
   "cell_type": "markdown",
   "metadata": {},
   "source": [
    "Import the modules"
   ]
  },
  {
   "cell_type": "code",
   "execution_count": 1,
   "metadata": {
    "collapsed": true
   },
   "outputs": [],
   "source": [
    "import random\n",
    "import os\n",
    "import sys\n",
    "from time import sleep\n",
    "from gtts import gTTS\n",
    "import pyglet\n"
   ]
  },
  {
   "cell_type": "markdown",
   "metadata": {},
   "source": [
    "Setup the pyglet for handleing sound files"
   ]
  },
  {
   "cell_type": "code",
   "execution_count": null,
   "metadata": {
    "collapsed": true
   },
   "outputs": [],
   "source": [
    "pyglet.lib.load_library('avbin')\n",
    "pyglet.have_avbin=True"
   ]
  },
  {
   "cell_type": "markdown",
   "metadata": {},
   "source": [
    "Set global flags"
   ]
  },
  {
   "cell_type": "code",
   "execution_count": null,
   "metadata": {
    "collapsed": true
   },
   "outputs": [],
   "source": [
    "lang_from = 'en'\n",
    "lang_to = 'en'\n",
    "flag_do_sound = True\n",
    "flag_do_write = True\n",
    "number_words = 10\n",
    "\n",
    "results = []"
   ]
  },
  {
   "cell_type": "markdown",
   "metadata": {
    "collapsed": true
   },
   "source": [
    "Define functions"
   ]
  },
  {
   "cell_type": "code",
   "execution_count": null,
   "metadata": {
    "collapsed": true
   },
   "outputs": [],
   "source": [
    "def ask_words_list(total_words_toask=number_words):\n",
    "    \"\"\"\n",
    "    iterates certain amount of word lines between start and (start + limit)\n",
    "    \"\"\"\n",
    "\n",
    "    start = 5\n",
    "    sheet = exportcsv.read_words_list()\n",
    "    global results\n",
    "\n",
    "    for i, row in enumerate(sheet.rows):\n",
    "        if i > start and i <=int(total_words_toask) + start:\n",
    "            results.append(do_step(i, (row[0].value, row[1].value)))\n",
    "\n",
    "def ask_random_words_list(total_words_toask=number_words):\n",
    "    \"\"\"\n",
    "    checks words from random parts of the list\n",
    "    \"\"\"\n",
    "    global results\n",
    "\n",
    "    sheet = exportcsv.read_words_list()\n",
    "    max_index = exportcsv.get_total_lines(sheet)\n",
    "    rows = list(sheet.rows)\n",
    "    \n",
    "    for step_index in range(int(total_words_toask)):\n",
    "        random_index = int(random.uniform(1, max_index))\n",
    "        row = rows[random_index]\n",
    "        results.append(do_step(step_index, (row[0].value, row[1].value)))\n",
    "\n",
    "def calc_stats():\n",
    "    \"\"\"\n",
    "    calculates and prints ratio\n",
    "    \"\"\"\n",
    "    if len(results) > 0:\n",
    "        success_ratio = results.count(True)/len(results)\n",
    "\n",
    "        if flag_do_write: exportcsv.write_stats(number_words, success_ratio)\n",
    "\n",
    "        print('Success ratio: %s' % success_ratio)\n",
    "\n",
    "def ask_word(word_translate):\n",
    "    \"\"\"\n",
    "    prints and gets input for single word\n",
    "    \"\"\"\n",
    "\n",
    "    message = input(\"Translate (%s): %s \\n\" % (lang_from.upper(), word_translate))\n",
    "    return message\n",
    "\n",
    "def read_single_word(text_to_read):\n",
    "    \"\"\"\n",
    "    voiceover for single word\n",
    "    using global 'lang_to' for lang selection\n",
    "    \"\"\"\n",
    "\n",
    "    tmp_file_name = 'tmp_%s.mp3' % str(random.uniform(1, 10e5)).replace('.', '')\n",
    "    tts = gTTS(text=text_to_read, lang=lang_to)\n",
    "    tts.save(tmp_file_name)\n",
    "\n",
    "    music = pyglet.media.load(tmp_file_name, streaming=False)\n",
    "    music.play()\n",
    "\n",
    "    sleep(music.duration)\n",
    "    os.remove(tmp_file_name)\n",
    "\n",
    "def do_step(step_index, word_pair):\n",
    "    \"\"\"\n",
    "    does actions for reading and saking one word pair\n",
    "    \"\"\"\n",
    "\n",
    "    print(step_index)\n",
    "    if flag_do_sound: read_single_word(word_pair[1])\n",
    "    res = ask_word(word_pair[0])\n",
    "    step_result = False\n",
    "    if res.lower() == word_pair[1].lower():\n",
    "        print('Correct! \\n')\n",
    "        step_result = True\n",
    "    else:\n",
    "        print('Wrong, correct is: %s' % word_pair[1])\n",
    "        print('\\n')\n",
    "\n",
    "    return step_result\n",
    "\n",
    "def parse_cli_args():\n",
    "    DO_SILENT = '-silent'\n",
    "    DO_SKIP_WRITE = '-test'\n",
    "    DO_NUMBER = '-n'\n",
    "\n",
    "    global flag_do_sound\n",
    "    global flag_do_write\n",
    "    global number_words\n",
    "\n",
    "    args = sys.argv\n",
    "    usedargs = args[1:]\n",
    "\n",
    "    for argument_index, item in enumerate(usedargs):\n",
    "        if(item == DO_SILENT): \n",
    "             flag_do_sound = False\n",
    "\n",
    "        if(item == DO_SKIP_WRITE): \n",
    "             flag_do_write = False\n",
    "\n",
    "        if(argument_index <= len(usedargs) and item == DO_NUMBER): \n",
    "             number_words = usedargs[argument_index+1]"
   ]
  },
  {
   "cell_type": "markdown",
   "metadata": {},
   "source": [
    "Define the init function "
   ]
  },
  {
   "cell_type": "code",
   "execution_count": null,
   "metadata": {
    "collapsed": true
   },
   "outputs": [],
   "source": [
    "def init():\n",
    "    parse_cli_args()\n",
    "    global lang_from, lang_to\n",
    "    lang_from, lang_to = exportcsv.read_language_pair()\n",
    "    print(lang_from, ' -> ', lang_to)\n",
    "    #ask_words_list(number_words)\n",
    "    ask_random_words_list(number_words)\n",
    "    calc_stats()"
   ]
  },
  {
   "cell_type": "markdown",
   "metadata": {},
   "source": [
    "Add config for user initiated termination and running file as a module"
   ]
  },
  {
   "cell_type": "code",
   "execution_count": null,
   "metadata": {
    "collapsed": true
   },
   "outputs": [],
   "source": [
    "if __name__ == '__main__':\n",
    "    try:\n",
    "        init()\n",
    "    except KeyboardInterrupt:\n",
    "        print ('\\n Closing')\n",
    "        calc_stats()\n",
    "        try:\n",
    "            sys.exit(0)\n",
    "        except SystemExit:\n",
    "            os._exit(0)"
   ]
  }
 ],
 "metadata": {
  "kernelspec": {
   "display_name": "Python 3",
   "language": "python",
   "name": "python3"
  },
  "language_info": {
   "codemirror_mode": {
    "name": "ipython",
    "version": 3
   },
   "file_extension": ".py",
   "mimetype": "text/x-python",
   "name": "python",
   "nbconvert_exporter": "python",
   "pygments_lexer": "ipython3",
   "version": "3.5.1"
  }
 },
 "nbformat": 4,
 "nbformat_minor": 1
}
